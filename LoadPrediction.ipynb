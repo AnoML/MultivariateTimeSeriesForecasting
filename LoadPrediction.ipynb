{
 "cells": [
  {
   "cell_type": "code",
   "execution_count": 49,
   "metadata": {},
   "outputs": [],
   "source": [
    "from pandas import DataFrame\n",
    "from pandas import read_csv\n",
    "from keras.models import Sequential\n",
    "from keras.layers import LSTM\n",
    "from keras.layers import Dense\n",
    "from matplotlib import pyplot\n",
    "from sklearn.metrics import mean_absolute_error\n",
    "\n",
    "from sklearn.preprocessing import StandardScaler\n",
    "\n",
    "dataset = read_csv('LOAD.csv', header=0, index_col=0).iloc[::-1]"
   ]
  },
  {
   "cell_type": "code",
   "execution_count": 50,
   "metadata": {},
   "outputs": [],
   "source": [
    "dataset[dataset.columns] = StandardScaler().fit_transform(dataset)"
   ]
  },
  {
   "cell_type": "code",
   "execution_count": 51,
   "metadata": {},
   "outputs": [],
   "source": [
    "dataset_shifted = dataset.shift(-5)\n",
    "dataset = dataset.iloc[:-5]\n",
    "dataset_shifted = dataset_shifted.iloc[:-5]"
   ]
  },
  {
   "cell_type": "code",
   "execution_count": 52,
   "metadata": {},
   "outputs": [],
   "source": [
    "train_dataset = dataset.iloc[:-500]\n",
    "train_dataset_shifted = dataset_shifted.iloc[:-500]\n",
    "\n",
    "test_dataset = dataset.iloc[-500:]\n",
    "test_dataset_shifted = dataset_shifted.iloc[-500:]"
   ]
  },
  {
   "cell_type": "code",
   "execution_count": null,
   "metadata": {},
   "outputs": [],
   "source": [
    "#Exhaustive search\n",
    "from sklearn.model_selection import GridSearchCV\n",
    "from keras.wrappers.scikit_learn import KerasClassifier\n",
    "import copy\n",
    "\n",
    "def fit_lstm_tuning(n_test = 28, n_lag = 1, n_batch = 1, n_neurons = 1, activation = 'sigmoid', optimizer = 'adam'):\n",
    "    model_lstm = Sequential()\n",
    "    model_lstm.add(LSTM(n_neurons, input_shape=(n_batch, dataset.shape[1]),activation = activation))\n",
    "    model_lstm.add(Dense(1))\n",
    "    model_lstm.compile(loss='mae', optimizer=optimizer)\n",
    "    return model_lstm\n",
    "\n",
    "n_lag = [1]\n",
    "n_seq = [1]\n",
    "n_batch = [1]\n",
    "n_neurons = [1,2,3]\n",
    "activation = ['softmax', 'relu', 'tanh', 'sigmoid']\n",
    "optimizer = ['SGD', 'RMSprop','Adam']\n",
    "\n",
    "X= copy.deepcopy(train_dataset.values.reshape((train_dataset.shape[0], 1, train_dataset.shape[1])))\n",
    "Y = copy.deepcopy(train_dataset_shifted['system.load.5'])\n",
    "\n",
    "# create model\n",
    "model = KerasClassifier(build_fn=fit_lstm_tuning, epochs = 1500, batch_size = 1, verbose=0)\n",
    "\n",
    "param_grid = dict(n_batch = n_batch, n_neurons = n_neurons)\n",
    "grid = GridSearchCV(estimator=model, param_grid=param_grid, n_jobs=1)\n",
    "grid_result = grid.fit(X,Y)\n",
    "\n",
    "# summarize results\n",
    "\n",
    "print(\"Best: %f using %s\" % (grid_result.best_score_, grid_result.best_params_))\n",
    "means = grid_result.cv_results_['mean_test_score']\n",
    "stds = grid_result.cv_results_['std_test_score']\n",
    "params = grid_result.cv_results_['params']\n",
    "for mean, stdev, param in zip(means, stds, params):\n",
    "    print(\"%f (%f) with: %r\" % (mean, stdev, param))\n"
   ]
  },
  {
   "cell_type": "code",
   "execution_count": null,
   "metadata": {},
   "outputs": [],
   "source": [
    "model_lstm = Sequential()\n",
    "model_lstm.add(LSTM(10, input_shape=(1, dataset.shape[1])))\n",
    "model_lstm.add(Dense(1))\n",
    "model_lstm.compile(loss='mae', optimizer='adam')\n",
    "\n",
    "model_lstm.fit(train_dataset.values.reshape((train_dataset.shape[0], 1, train_dataset.shape[1])), train_dataset_shifted['system.load.5'], verbose=2, shuffle=False)"
   ]
  },
  {
   "cell_type": "code",
   "execution_count": null,
   "metadata": {},
   "outputs": [],
   "source": [
    "test_dataset_predicted = model_lstm.predict(test_dataset.values.reshape((test_dataset.shape[0], 1, test_dataset.shape[1])))"
   ]
  },
  {
   "cell_type": "code",
   "execution_count": null,
   "metadata": {},
   "outputs": [],
   "source": [
    "pyplot.plot(test_dataset_shifted['system.load.5'], label='real')\n",
    "pyplot.plot(test_dataset_predicted, label='lstm')\n",
    "pyplot.legend()\n",
    "pyplot.show()"
   ]
  },
  {
   "cell_type": "code",
   "execution_count": null,
   "metadata": {},
   "outputs": [],
   "source": [
    "mean_absolute_error(test_dataset_predicted, test_dataset_shifted['system.load.5'])"
   ]
  },
  {
   "cell_type": "code",
   "execution_count": null,
   "metadata": {},
   "outputs": [],
   "source": []
  }
 ],
 "metadata": {
  "kernelspec": {
   "display_name": "Python 3",
   "language": "python",
   "name": "python3"
  },
  "language_info": {
   "codemirror_mode": {
    "name": "ipython",
    "version": 3
   },
   "file_extension": ".py",
   "mimetype": "text/x-python",
   "name": "python",
   "nbconvert_exporter": "python",
   "pygments_lexer": "ipython3",
   "version": "3.6.4"
  }
 },
 "nbformat": 4,
 "nbformat_minor": 2
}
